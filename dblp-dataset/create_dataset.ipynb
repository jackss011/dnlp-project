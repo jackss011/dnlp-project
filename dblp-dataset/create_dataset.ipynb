{
 "cells": [
  {
   "cell_type": "code",
   "execution_count": 1,
   "metadata": {},
   "outputs": [
    {
     "data": {
      "text/plain": [
       "281080"
      ]
     },
     "execution_count": 1,
     "metadata": {},
     "output_type": "execute_result"
    }
   ],
   "source": [
    "papers = {}\n",
    "\n",
    "# add valid papers to data (some papers do not have an abstract)\n",
    "with open('./data/dblp-v1.txt', encoding='utf-8') as f:\n",
    "    index = None\n",
    "    title = None\n",
    "    abstract = None\n",
    "    refs = []\n",
    "\n",
    "    for line in f.readlines():\n",
    "        if line.startswith('#*'):\n",
    "            title = line.replace('#*', '').strip()\n",
    "        elif line.startswith('#!'):\n",
    "            abstract = line.replace('#!', '').strip()\n",
    "        elif line.startswith('#index'):\n",
    "            index = 'idx' + line.replace('#index', '').strip()\n",
    "        elif line.startswith('#%'):\n",
    "            ref_id = 'idx' + line.replace('#%', '').strip()\n",
    "            refs.append(ref_id)\n",
    "\n",
    "        elif len(line.strip().replace('\\n', '')) == 0:\n",
    "            if index and title and abstract:\n",
    "                papers[index] = {\"index\": index, \"title\": title, \"abstract\": abstract, \"refs\": refs}\n",
    "            index = None\n",
    "            title = None\n",
    "            abstract = None\n",
    "            refs = []\n",
    "\n",
    "len(papers.keys())"
   ]
  },
  {
   "cell_type": "code",
   "execution_count": 2,
   "metadata": {},
   "outputs": [
    {
     "data": {
      "text/plain": [
       "(532617, 261622, 270995)"
      ]
     },
     "execution_count": 2,
     "metadata": {},
     "output_type": "execute_result"
    }
   ],
   "source": [
    "# prune invalid paper ids\n",
    "ref_count = 0\n",
    "missing_ref_count = 0\n",
    "valid_ref_count = 0\n",
    "\n",
    "for paper in papers.values():\n",
    "    valid_item_refs = []\n",
    "    for ref_id in paper['refs']:\n",
    "        ref_count += 1\n",
    "        if papers.get(ref_id, None):\n",
    "            valid_ref_count += 1\n",
    "            valid_item_refs.append(ref_id)\n",
    "        else:\n",
    "            missing_ref_count += 1\n",
    "    paper['refs'] = valid_item_refs\n",
    "\n",
    "ref_count, missing_ref_count, valid_ref_count"
   ]
  },
  {
   "cell_type": "code",
   "execution_count": 3,
   "metadata": {},
   "outputs": [
    {
     "data": {
      "text/plain": [
       "624622"
      ]
     },
     "execution_count": 3,
     "metadata": {},
     "output_type": "execute_result"
    }
   ],
   "source": [
    "hn_count = 0\n",
    "\n",
    "for paper in papers.values():\n",
    "    hard_negatives_ids = set()\n",
    "    for ref_id in paper['refs']:\n",
    "        ref_paper = papers[ref_id]\n",
    "        for hn_id in ref_paper['refs']:\n",
    "            if hn_id not in paper['refs'] and hn_id != paper['index']:\n",
    "              hard_negatives_ids.add(hn_id)\n",
    "    hn_count += len(hard_negatives_ids)\n",
    "    paper['hard_negatives'] = list(hard_negatives_ids)\n",
    "\n",
    "hn_count"
   ]
  },
  {
   "cell_type": "code",
   "execution_count": 4,
   "metadata": {},
   "outputs": [],
   "source": [
    "data = {}\n",
    "metadata = {}\n",
    "\n",
    "for id, paper in papers.items():\n",
    "    metadata[id] = {'paper_id':paper['index'], 'title': paper['title'], 'abstract': paper['abstract']}\n",
    "    if len(paper['refs']) == 0:\n",
    "        continue\n",
    "\n",
    "    data[id] = {}\n",
    "    for ref_id in paper['refs']:\n",
    "        data[id][ref_id] = {\"count\": 5}\n",
    "    for hn_id in paper['hard_negatives']:\n",
    "        assert(hn_id not in data[id].keys())\n",
    "        data[id][hn_id] = {\"count\": 1}\n",
    "\n",
    "import json\n",
    "\n",
    "with open('data/data.json', 'w') as f:\n",
    "    json.dump(data, f, indent=4)\n",
    "\n",
    "with open('data/metadata.json', 'w') as f:\n",
    "    json.dump(metadata, f, indent=4)"
   ]
  },
  {
   "cell_type": "code",
   "execution_count": 6,
   "metadata": {},
   "outputs": [],
   "source": [
    "from sklearn.model_selection import train_test_split\n",
    "\n",
    "ids = list(metadata.keys())\n",
    "ids_train, ids_test = train_test_split(ids, test_size=0.2, random_state=42)\n",
    "ids_train, ids_val = train_test_split(ids_train, test_size=0.25, random_state=42)\n",
    "\n",
    "with open('data/train.txt', 'w') as f:\n",
    "   f.writelines([x + '\\n' for x in ids_train])\n",
    "\n",
    "with open('data/val.txt', 'w') as f:\n",
    "   f.writelines([x + '\\n' for x in ids_val])\n",
    "\n",
    "with open('data/test.txt', 'w') as f:\n",
    "   f.writelines([x + '\\n' for x in ids_test])"
   ]
  }
 ],
 "metadata": {
  "kernelspec": {
   "display_name": "Python 3",
   "language": "python",
   "name": "python3"
  },
  "language_info": {
   "codemirror_mode": {
    "name": "ipython",
    "version": 3
   },
   "file_extension": ".py",
   "mimetype": "text/x-python",
   "name": "python",
   "nbconvert_exporter": "python",
   "pygments_lexer": "ipython3",
   "version": "3.10.6"
  },
  "orig_nbformat": 4
 },
 "nbformat": 4,
 "nbformat_minor": 2
}
